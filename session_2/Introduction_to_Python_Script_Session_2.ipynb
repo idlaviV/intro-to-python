{
  "nbformat": 4,
  "nbformat_minor": 0,
  "metadata": {
    "colab": {
      "name": "Introduction to Python - Script Session 2.ipynb",
      "provenance": [],
      "collapsed_sections": [
        "V-GfNTr0J6Wh",
        "g3AcL0-iKsH8",
        "yD7zPaOtRFni"
      ],
      "toc_visible": true
    },
    "kernelspec": {
      "name": "python3",
      "display_name": "Python 3"
    },
    "language_info": {
      "name": "python"
    }
  },
  "cells": [
    {
      "cell_type": "markdown",
      "metadata": {
        "id": "jR9xWXN69ZZt"
      },
      "source": [
        "# Introduction to Python - Script Session 2"
      ]
    },
    {
      "cell_type": "markdown",
      "metadata": {
        "id": "w6Q5yS0fGoW_"
      },
      "source": [
        "## Section 1"
      ]
    },
    {
      "cell_type": "markdown",
      "metadata": {
        "id": "9RvWdkCt9koE"
      },
      "source": [
        "### Conditions"
      ]
    },
    {
      "cell_type": "markdown",
      "metadata": {
        "id": "XKKhx7UmAHCQ"
      },
      "source": [
        "#### Basics"
      ]
    },
    {
      "cell_type": "markdown",
      "metadata": {
        "id": "2dLS2laW-4NL"
      },
      "source": [
        "We have already talked about variables. We often need to compare and execute code depending on certain conditions -> If-Statements\n",
        "\n",
        "We have the following logical conditions:\n",
        "\n",
        "Equals: `a == b`<br>\n",
        "Not Equals: `a != b` <br>\n",
        "Less than: `a < b` <br>\n",
        "Less than or equal to: `a <= b` <br>\n",
        "Greater than: `a > b` <br>\n",
        "Greater than or equal to: `a >= b`"
      ]
    },
    {
      "cell_type": "code",
      "metadata": {
        "id": "ID13qhtC-ntM"
      },
      "source": [
        "# indent is important and has to consistent\n",
        "\n",
        "age = 12\n",
        "if age >= 18:\n",
        "  print(\"Access granted!\")\n"
      ],
      "execution_count": null,
      "outputs": []
    },
    {
      "cell_type": "code",
      "metadata": {
        "id": "mXlN0cJM_3Tm"
      },
      "source": [
        "# if we want to cover more than one case for one variable we can use \n",
        "# else statements, wich cover every poissible other case:\n",
        "if age >= 18:\n",
        "    print(\"Access granted!\")\n",
        "else:\n",
        "    print(\"You are too young!\")"
      ],
      "execution_count": null,
      "outputs": []
    },
    {
      "cell_type": "code",
      "metadata": {
        "id": "yTPvvyPD_9P9"
      },
      "source": [
        "# for even more cases we can use the elif statement:\n",
        "\n",
        "number = 2\n",
        "if number > 0:\n",
        "    print(\"Positive value\")\n",
        "elif number == 0:\n",
        "    print(\"Zero\")\n",
        "else:\n",
        "    print(\"Negative vaulue\")"
      ],
      "execution_count": null,
      "outputs": []
    },
    {
      "cell_type": "markdown",
      "metadata": {
        "id": "vLI0OeH6ABXb"
      },
      "source": [
        "Alternativly we could have used 2 elif statements, however its more common and good practice to have a fallback (else)."
      ]
    },
    {
      "cell_type": "markdown",
      "metadata": {
        "id": "riJ2dTp3AJqj"
      },
      "source": [
        "#### Strings and Lists in Conditions"
      ]
    },
    {
      "cell_type": "code",
      "metadata": {
        "id": "LlN1JAnVAPOB"
      },
      "source": [
        "banned_players = [\"Tim\", \"Jara\", \"Jackie\", \"Peter\"]\n",
        "name = \"Tim\"\n",
        "if name in banned_players:\n",
        "    print(\"You are banned!\")"
      ],
      "execution_count": null,
      "outputs": []
    },
    {
      "cell_type": "code",
      "metadata": {
        "id": "Hau4fzjrAUbh"
      },
      "source": [
        "# we can negate using a not before a statement\n",
        "# not .... :\n",
        "if not name in banned_players:\n",
        "    print(\"You are not banned!\")"
      ],
      "execution_count": null,
      "outputs": []
    },
    {
      "cell_type": "code",
      "metadata": {
        "id": "HS822Zc3AeWG"
      },
      "source": [
        "# the in keyword also works for strings:\n",
        "if \"hello\" in \"hello world\":\n",
        "    print(\"Contains!\")\n",
        "    \n",
        "if not \"hello\" in \"hello world\":\n",
        "    print(\"Contains no hello\")"
      ],
      "execution_count": null,
      "outputs": []
    },
    {
      "cell_type": "code",
      "metadata": {
        "id": "zPKNMOWCAhkv"
      },
      "source": [
        "# we can check for multiple conditions in one if using and & or:\n",
        "if age >= 18 and not name in banned_players:\n",
        "    print(\"Acces granted\")\n",
        "else:\n",
        "    print(\"Sorry :/\")"
      ],
      "execution_count": null,
      "outputs": []
    },
    {
      "cell_type": "markdown",
      "metadata": {
        "id": "Z1KP6-X7AkjO"
      },
      "source": [
        "#### Truth tables\n",
        "\n",
        "##### `and`\n",
        "|           | True  | False |\n",
        "|-----------|-------|-------|\n",
        "| **True**  | True  | False |\n",
        "| **False** | False | False |\n",
        "\n",
        "\n",
        "\n",
        "##### `or`\n",
        "|           | True  | False |\n",
        "|-----------|-------|-------|\n",
        "| **True**  | True  | True  |\n",
        "| **False** | True  | False |"
      ]
    },
    {
      "cell_type": "markdown",
      "metadata": {
        "id": "12VIFdmcB6c4"
      },
      "source": [
        "### For Loops"
      ]
    },
    {
      "cell_type": "markdown",
      "metadata": {
        "id": "RC4V85bdDOIo"
      },
      "source": [
        "Do someting x times:"
      ]
    },
    {
      "cell_type": "code",
      "metadata": {
        "id": "Xr6QqoLuDShw"
      },
      "source": [
        "# start with 0, end with 10-1\n",
        "for x in range(0, 10):\n",
        "    print(x)"
      ],
      "execution_count": null,
      "outputs": []
    },
    {
      "cell_type": "code",
      "metadata": {
        "id": "D0AWhJS8DVIA"
      },
      "source": [
        "# range syntax:\n",
        "# range(from, to, step)\n",
        "for x in range(20, 30, 2):\n",
        "    print(x)"
      ],
      "execution_count": null,
      "outputs": []
    },
    {
      "cell_type": "code",
      "metadata": {
        "id": "OeUmavILDXrR"
      },
      "source": [
        "# short version:\n",
        "for x in range(10):\n",
        "    print(x)"
      ],
      "execution_count": null,
      "outputs": []
    },
    {
      "cell_type": "code",
      "metadata": {
        "id": "dPp8AA74FTnt"
      },
      "source": [
        "for x in range(0, len(banned_players)):\n",
        "    print(\"index: \", x-1, banned_players[x])"
      ],
      "execution_count": null,
      "outputs": []
    },
    {
      "cell_type": "code",
      "metadata": {
        "id": "MJwsuoGXFU3V"
      },
      "source": [
        "# an easier way to go through a list:\n",
        "for player in banned_players:\n",
        "    print(player)"
      ],
      "execution_count": null,
      "outputs": []
    },
    {
      "cell_type": "code",
      "metadata": {
        "id": "Oc17l2v3FXwR"
      },
      "source": [
        "# the same works for strings (they are a list if characters)\n",
        "# an easier way to go through a list:\n",
        "for char in \"Konstanz\":\n",
        "    print(char)"
      ],
      "execution_count": null,
      "outputs": []
    },
    {
      "cell_type": "code",
      "metadata": {
        "id": "ieYXjAePFaYq"
      },
      "source": [
        "# last but no least, the enumerate function:\n",
        "for index, player in enumerate(banned_players):\n",
        "    print(index, player)"
      ],
      "execution_count": null,
      "outputs": []
    },
    {
      "cell_type": "markdown",
      "metadata": {
        "id": "h0HU5KKFF5Ny"
      },
      "source": [
        "### While Loops\n",
        "Do someting as long as a condition holds.\n",
        "A basic loop:"
      ]
    },
    {
      "cell_type": "code",
      "metadata": {
        "id": "uAA5-ndgGgMd"
      },
      "source": [
        "x = 0 \n",
        "while x < 3:\n",
        "  print(x)\n",
        "  x += 1"
      ],
      "execution_count": null,
      "outputs": []
    },
    {
      "cell_type": "code",
      "metadata": {
        "id": "-vocQCRJGhJs"
      },
      "source": [
        "# Break statement\n",
        "x = 1\n",
        "while x < 6:\n",
        "    print(x)\n",
        "    if x == 3: \n",
        "        break # quit the loop"
      ],
      "execution_count": null,
      "outputs": []
    },
    {
      "cell_type": "code",
      "metadata": {
        "id": "1-3m-FewGjUO"
      },
      "source": [
        "# Continue statement\n",
        "skip_values = [3,5]\n",
        "while x < 6:\n",
        "    if x in skip_values: \n",
        "        continue # skip to the top of the loop\n",
        "    print(x)"
      ],
      "execution_count": null,
      "outputs": []
    },
    {
      "cell_type": "markdown",
      "metadata": {
        "id": "mmtfu11wG77r"
      },
      "source": [
        "## Section 2"
      ]
    },
    {
      "cell_type": "markdown",
      "metadata": {
        "id": "Pryv-dyuG_Lk"
      },
      "source": [
        "### Functions "
      ]
    },
    {
      "cell_type": "markdown",
      "metadata": {
        "id": "70fYof6HHGTN"
      },
      "source": [
        "A function is a block of code which only runs when it is called.\n",
        "You can pass data, known as parameters, into a function.\n",
        "A function can return data as a result. <br>\n",
        "**Indent is important! (e.g. Tab)**"
      ]
    },
    {
      "cell_type": "code",
      "metadata": {
        "id": "l-hc6UIMHO2d"
      },
      "source": [
        "def hello():                # function head\n",
        "    print(\"Hello\")          # function body"
      ],
      "execution_count": null,
      "outputs": []
    },
    {
      "cell_type": "code",
      "metadata": {
        "id": "_yTEPWtwHQuT",
        "colab": {
          "base_uri": "https://localhost:8080/"
        },
        "outputId": "c1def490-7e28-4a81-b144-68e7fa4b6748"
      },
      "source": [
        "hello()                     # call/execute the function"
      ],
      "execution_count": null,
      "outputs": [
        {
          "output_type": "stream",
          "text": [
            "Hello\n"
          ],
          "name": "stdout"
        }
      ]
    },
    {
      "cell_type": "markdown",
      "metadata": {
        "id": "U093f8RXHWLD"
      },
      "source": [
        "### Arguments\n",
        "Information can be passed into functions as arguments/parameters."
      ]
    },
    {
      "cell_type": "code",
      "metadata": {
        "id": "6TUaZhmtHWmD",
        "colab": {
          "base_uri": "https://localhost:8080/"
        },
        "outputId": "3e7c55dc-5c59-4a64-8cbd-11f6aa124f71"
      },
      "source": [
        "def hello(name):\n",
        "    print(f\"Hello {name}!\")\n",
        "    \n",
        "hello(\"Tilman\")\n",
        "hello(\"Sarah\")"
      ],
      "execution_count": null,
      "outputs": [
        {
          "output_type": "stream",
          "text": [
            "Hello Tilman!\n",
            "Hello Sarah!\n"
          ],
          "name": "stdout"
        }
      ]
    },
    {
      "cell_type": "code",
      "metadata": {
        "id": "37AAuqA_HfUC",
        "colab": {
          "base_uri": "https://localhost:8080/"
        },
        "outputId": "8e0ee779-eb76-42f6-ba63-58fe28f2f981"
      },
      "source": [
        "# we can use any number of arguments:\n",
        "def hello(fname, lname):\n",
        "    print(f\"Hello {fname} {lname}!\")\n",
        "    \n",
        "hello(\"Tilman\", \"Kerl\")"
      ],
      "execution_count": null,
      "outputs": [
        {
          "output_type": "stream",
          "text": [
            "Hello Tilman Kerl!\n"
          ],
          "name": "stdout"
        }
      ]
    },
    {
      "cell_type": "markdown",
      "metadata": {
        "id": "Y63l58rAHhct"
      },
      "source": [
        "However when you have a lot of info to pass use lists, dicts or  arbitrary arguments: `*args` (where args is a list):"
      ]
    },
    {
      "cell_type": "code",
      "metadata": {
        "id": "ByoK6gYFHgRX"
      },
      "source": [
        "def mmin(*args):\n",
        "    print(args)\n",
        "    min_value = 999999\n",
        "    for value in args:\n",
        "        if value < min_value:\n",
        "            min_value = value\n",
        "    return min_value    # we can use the return statement to return \n",
        "                        # the result of the function"
      ],
      "execution_count": null,
      "outputs": []
    },
    {
      "cell_type": "code",
      "metadata": {
        "id": "Cg8oNKSHHqxe",
        "colab": {
          "base_uri": "https://localhost:8080/"
        },
        "outputId": "04767e7d-67b9-4660-9030-646a22e6f0b7"
      },
      "source": [
        "print(mmin(59,152))\n",
        "print(mmin(132,12,141))"
      ],
      "execution_count": null,
      "outputs": [
        {
          "output_type": "stream",
          "text": [
            "(59, 152)\n",
            "59\n",
            "(132, 12, 141)\n",
            "12\n"
          ],
          "name": "stdout"
        }
      ]
    },
    {
      "cell_type": "markdown",
      "metadata": {
        "id": "HYYrCrYKIpNo"
      },
      "source": [
        "This however will throw an error:"
      ]
    },
    {
      "cell_type": "code",
      "metadata": {
        "id": "RYfp-0snIfpF",
        "colab": {
          "base_uri": "https://localhost:8080/",
          "height": 306
        },
        "outputId": "ae6cf11c-2c45-4fa7-b07a-473e3861a998"
      },
      "source": [
        "print(mmin([98,53,756,23,-99]))"
      ],
      "execution_count": null,
      "outputs": [
        {
          "output_type": "stream",
          "text": [
            "([98, 53, 756, 23, -99],)\n"
          ],
          "name": "stdout"
        },
        {
          "output_type": "error",
          "ename": "TypeError",
          "evalue": "ignored",
          "traceback": [
            "\u001b[0;31m---------------------------------------------------------------------------\u001b[0m",
            "\u001b[0;31mTypeError\u001b[0m                                 Traceback (most recent call last)",
            "\u001b[0;32m<ipython-input-10-7cf8526971fb>\u001b[0m in \u001b[0;36m<module>\u001b[0;34m()\u001b[0m\n\u001b[0;32m----> 1\u001b[0;31m \u001b[0mprint\u001b[0m\u001b[0;34m(\u001b[0m\u001b[0mmmin\u001b[0m\u001b[0;34m(\u001b[0m\u001b[0;34m[\u001b[0m\u001b[0;36m98\u001b[0m\u001b[0;34m,\u001b[0m\u001b[0;36m53\u001b[0m\u001b[0;34m,\u001b[0m\u001b[0;36m756\u001b[0m\u001b[0;34m,\u001b[0m\u001b[0;36m23\u001b[0m\u001b[0;34m,\u001b[0m\u001b[0;34m-\u001b[0m\u001b[0;36m99\u001b[0m\u001b[0;34m]\u001b[0m\u001b[0;34m)\u001b[0m\u001b[0;34m)\u001b[0m\u001b[0;34m\u001b[0m\u001b[0;34m\u001b[0m\u001b[0m\n\u001b[0m",
            "\u001b[0;32m<ipython-input-7-9ece5710e28f>\u001b[0m in \u001b[0;36mmmin\u001b[0;34m(*args)\u001b[0m\n\u001b[1;32m      3\u001b[0m     \u001b[0mmin_value\u001b[0m \u001b[0;34m=\u001b[0m \u001b[0;36m999999\u001b[0m\u001b[0;34m\u001b[0m\u001b[0;34m\u001b[0m\u001b[0m\n\u001b[1;32m      4\u001b[0m     \u001b[0;32mfor\u001b[0m \u001b[0mvalue\u001b[0m \u001b[0;32min\u001b[0m \u001b[0margs\u001b[0m\u001b[0;34m:\u001b[0m\u001b[0;34m\u001b[0m\u001b[0;34m\u001b[0m\u001b[0m\n\u001b[0;32m----> 5\u001b[0;31m         \u001b[0;32mif\u001b[0m \u001b[0mvalue\u001b[0m \u001b[0;34m<\u001b[0m \u001b[0mmin_value\u001b[0m\u001b[0;34m:\u001b[0m\u001b[0;34m\u001b[0m\u001b[0;34m\u001b[0m\u001b[0m\n\u001b[0m\u001b[1;32m      6\u001b[0m             \u001b[0mmin_value\u001b[0m \u001b[0;34m=\u001b[0m \u001b[0mvalue\u001b[0m\u001b[0;34m\u001b[0m\u001b[0;34m\u001b[0m\u001b[0m\n\u001b[1;32m      7\u001b[0m     \u001b[0;32mreturn\u001b[0m \u001b[0mmin_value\u001b[0m    \u001b[0;31m# we can use the return statement to return\u001b[0m\u001b[0;34m\u001b[0m\u001b[0;34m\u001b[0m\u001b[0m\n",
            "\u001b[0;31mTypeError\u001b[0m: '<' not supported between instances of 'list' and 'int'"
          ]
        }
      ]
    },
    {
      "cell_type": "markdown",
      "metadata": {
        "id": "E-iFOMNRImM4"
      },
      "source": [
        "We can adjust our function:"
      ]
    },
    {
      "cell_type": "code",
      "metadata": {
        "id": "OslOe-p_IiGE",
        "colab": {
          "base_uri": "https://localhost:8080/"
        },
        "outputId": "0111fe2d-f2ab-4c92-be16-ddf5934c6b76"
      },
      "source": [
        "name = \"Jon\"\n",
        "def mmin(*args):    \n",
        "    if len(args) == 1 and isinstance(args[0], list):\n",
        "        args = args[0]\n",
        "    min_value = 999999\n",
        "    for value in args:\n",
        "        if value < min_value:\n",
        "            min_value = value\n",
        "    return min_value\n",
        "\n",
        "print(mmin([98,53,756,23,-99]))\n",
        "print(name)"
      ],
      "execution_count": null,
      "outputs": [
        {
          "output_type": "stream",
          "text": [
            "Jon\n",
            "-99\n",
            "Jon\n"
          ],
          "name": "stdout"
        }
      ]
    },
    {
      "cell_type": "code",
      "metadata": {
        "colab": {
          "base_uri": "https://localhost:8080/"
        },
        "id": "p_8cVPUSXztS",
        "outputId": "b76f4d50-8b45-4aa5-89f0-5569bf935059"
      },
      "source": [
        "li = [1,2,3]\n",
        "\n",
        "def change():\n",
        "  li[0] = 99\n",
        "\n",
        "print(li)\n",
        "c_value = change()\n",
        "print(c_value)\n",
        "print(li)"
      ],
      "execution_count": null,
      "outputs": [
        {
          "output_type": "stream",
          "text": [
            "[1, 2, 3]\n",
            "None\n",
            "[99, 2, 3]\n"
          ],
          "name": "stdout"
        }
      ]
    },
    {
      "cell_type": "markdown",
      "metadata": {
        "id": "P5o973tTIvgO"
      },
      "source": [
        "#### Default args\n"
      ]
    },
    {
      "cell_type": "code",
      "metadata": {
        "id": "T6d-AGReIsJ_"
      },
      "source": [
        "def hello(name=\"Tilman\", lang=\"en\"):\n",
        "    if lang == \"fr\":\n",
        "        print(f\"Salut {name}\")\n",
        "    elif lang == \"de\":\n",
        "        print(f\"Hallo {name}\")\n",
        "    else:\n",
        "        print(f\"Hello {name}\")"
      ],
      "execution_count": null,
      "outputs": []
    },
    {
      "cell_type": "code",
      "metadata": {
        "id": "YZNrv15jJnvJ",
        "colab": {
          "base_uri": "https://localhost:8080/"
        },
        "outputId": "fc1991da-b490-4e08-c5fc-f6293a062bb1"
      },
      "source": [
        "# call the function\n",
        "hello(\"Tilman\")\n",
        "hello(\"Tilman\", \"de\")\n",
        "hello(lang=\"fr\", name=\"Tilman\")"
      ],
      "execution_count": null,
      "outputs": [
        {
          "output_type": "stream",
          "text": [
            "Hello Tilman\n",
            "Hallo Tilman\n",
            "Salut Tilman\n"
          ],
          "name": "stdout"
        }
      ]
    },
    {
      "cell_type": "markdown",
      "metadata": {
        "id": "L6L4J-iLEkTJ"
      },
      "source": [
        "#### Recursion\n",
        "A function can call itself - recursion whenever we use this, we need a break condition!"
      ]
    },
    {
      "cell_type": "code",
      "metadata": {
        "id": "HOVmKiGyEm1p",
        "colab": {
          "base_uri": "https://localhost:8080/"
        },
        "outputId": "1c687a6c-5f80-4514-b587-4d7239dfe61c"
      },
      "source": [
        "# one easy example:\n",
        "def fib(prev1=0, prev2=1, stop=10):\n",
        "    if prev2 >= stop:\n",
        "        return 1\n",
        "    if prev1 == 0:\n",
        "        print(prev1)\n",
        "        print(prev2)\n",
        "    new_value = prev1 + prev2\n",
        "    print(new_value)\n",
        "    fib(prev2, new_value, stop=stop)\n",
        "    \n",
        "    \n",
        "fib()"
      ],
      "execution_count": null,
      "outputs": [
        {
          "output_type": "stream",
          "text": [
            "0\n",
            "1\n",
            "1\n",
            "2\n",
            "3\n",
            "5\n",
            "8\n",
            "13\n"
          ],
          "name": "stdout"
        }
      ]
    },
    {
      "cell_type": "markdown",
      "metadata": {
        "id": "B7Et-MisJqvi"
      },
      "source": [
        "## Section 3"
      ]
    },
    {
      "cell_type": "markdown",
      "metadata": {
        "id": "8vPiRx56Jysa"
      },
      "source": [
        "### More Functions: lambda, filter & map"
      ]
    },
    {
      "cell_type": "markdown",
      "metadata": {
        "id": "V-GfNTr0J6Wh"
      },
      "source": [
        "#### Lambda functions\n",
        "Pyhton supports lambda functions - which in python are just functions which do not need a descriptor (name).*italicized text*"
      ]
    },
    {
      "cell_type": "code",
      "metadata": {
        "id": "VxexAqL8KaqW"
      },
      "source": [
        "# this is a valid lambda function\n",
        "lambda x: print(x)"
      ],
      "execution_count": null,
      "outputs": []
    },
    {
      "cell_type": "code",
      "metadata": {
        "id": "9hHiF1fcKdW0"
      },
      "source": [
        "# we can assign this function to a variable and use it\n",
        "p = lambda x: print(x)\n",
        "p(\"hello\")"
      ],
      "execution_count": null,
      "outputs": []
    },
    {
      "cell_type": "markdown",
      "metadata": {
        "id": "s06y9bgSKf6C"
      },
      "source": [
        "Lambda function are realy usefull for the filter and map functions."
      ]
    },
    {
      "cell_type": "markdown",
      "metadata": {
        "id": "g3AcL0-iKsH8"
      },
      "source": [
        "#### map()\n",
        "Apply a function to every element in a list:"
      ]
    },
    {
      "cell_type": "code",
      "metadata": {
        "id": "dfjsa13HKyKd"
      },
      "source": [
        "meassures = [1, 41, 1212.133, 14.654]\n",
        "# syntax: map(function, list)\n",
        "result = map(int, meassures)\n",
        "print(result)"
      ],
      "execution_count": null,
      "outputs": []
    },
    {
      "cell_type": "markdown",
      "metadata": {
        "id": "7nOgYnDvK39-"
      },
      "source": [
        "The map call returns a map object and has to be converted to a list again:"
      ]
    },
    {
      "cell_type": "code",
      "metadata": {
        "id": "rO9fgG7ZK0UU"
      },
      "source": [
        "# like this:\n",
        "meassures = list(map(int, meassures))\n",
        "print(meassures)"
      ],
      "execution_count": null,
      "outputs": []
    },
    {
      "cell_type": "code",
      "metadata": {
        "id": "WKVkz6GYK-C7"
      },
      "source": [
        "# or this:\n",
        "meassures = [1, 41, 1212.133, 14.654]\n",
        "meassures = [*map(int, meassures)]\n",
        "print(meassures)"
      ],
      "execution_count": null,
      "outputs": []
    },
    {
      "cell_type": "code",
      "metadata": {
        "id": "SOgvszjVLOEp"
      },
      "source": [
        "# if we want to use our own function, we can simply use lambda functions:\n",
        "meassures = [*map(lambda x: x + 1, meassures)]\n",
        "print(meassures)"
      ],
      "execution_count": null,
      "outputs": []
    },
    {
      "cell_type": "code",
      "metadata": {
        "id": "hY-Cq8PFL3mR"
      },
      "source": [
        "# using the same syntax we can filter:\n",
        "meassures = [*map(lambda x: x > 3, meassures)]\n",
        "print(meassures)"
      ],
      "execution_count": null,
      "outputs": []
    },
    {
      "cell_type": "markdown",
      "metadata": {
        "id": "yD7zPaOtRFni"
      },
      "source": [
        "#### filter()\n",
        "Using the same syntax we can filter"
      ]
    },
    {
      "cell_type": "code",
      "metadata": {
        "id": "gGlNFTEeRJIX"
      },
      "source": [
        "meassures = [*map(lambda x: x > 3, meassures)]\n",
        "print(meassures)"
      ],
      "execution_count": null,
      "outputs": []
    },
    {
      "cell_type": "markdown",
      "metadata": {
        "id": "o4q4xO3lRQSQ"
      },
      "source": [
        "### Classes"
      ]
    },
    {
      "cell_type": "markdown",
      "metadata": {
        "id": "jdhBKIgkRSc1"
      },
      "source": [
        "Almost everything in Python is an object, with its properties and methods.\n",
        "A class is the blueprint for an object - an object is an instance of a class (isinstance function). <br>\n",
        "A class has properties and methods (functions belonging to a class)."
      ]
    },
    {
      "cell_type": "code",
      "metadata": {
        "id": "HsmYOhMARb55"
      },
      "source": [
        "class Human:\n",
        "    \"\"\"\n",
        "    docstring for Human.\n",
        "    Her we can describe what the class is about.\n",
        "    \"\"\"\n",
        "\n",
        "    # this is the constructor - which gets executed when we initialize \n",
        "    # a new object with all the arguments we pass\n",
        "    def __init__(self, name, birth_date):\n",
        "        # The self parameter is a reference to the current instance of the class\n",
        "        # and is used to access variables/properties & methods \n",
        "        # that belongs to the class.\n",
        "        self.name = name\n",
        "        self.birth_date = birth_date\n",
        "        self.age = 0\n",
        "        self.dead = False\n",
        "    \n",
        "    # class methods always need the self parameter as the first parameter\n",
        "    def birthday(self):\n",
        "        if not self.is_dead():\n",
        "            self.age += 1\n",
        "            print(f\"{self.name} is now {self.age} years old!\")\n",
        "        print(f\"{self.name} is already dead!:(\")\n",
        "    \n",
        "    def is_dead(self):\n",
        "        if self.dead:            \n",
        "            return True\n",
        "        return False"
      ],
      "execution_count": null,
      "outputs": []
    },
    {
      "cell_type": "code",
      "metadata": {
        "id": "Xf-6DbJzRfC_"
      },
      "source": [
        "# let's init a new human:\n",
        "tilman = Human(\"Tilman\", \"01.01.1955\")"
      ],
      "execution_count": null,
      "outputs": []
    },
    {
      "cell_type": "code",
      "metadata": {
        "id": "octgAzgBRgDA"
      },
      "source": [
        "# we cann acess properties and methods like this:\n",
        "print(tilman.name)\n",
        "print(tilman.age)"
      ],
      "execution_count": null,
      "outputs": []
    },
    {
      "cell_type": "code",
      "metadata": {
        "id": "w0-Mbof8RiKO"
      },
      "source": [
        "tilman.birthday()\n",
        "print(tilman.age)\n",
        "print(tilman.is_dead())\n",
        "print(tilman.dead)"
      ],
      "execution_count": null,
      "outputs": []
    },
    {
      "cell_type": "code",
      "metadata": {
        "id": "s_qVuLcSRkLZ"
      },
      "source": [
        "# we can modify properties:\n",
        "tilman.dead = True\n",
        "print(tilman.dead)"
      ],
      "execution_count": null,
      "outputs": []
    },
    {
      "cell_type": "code",
      "metadata": {
        "id": "UY8naJC_Rmt2"
      },
      "source": [
        "# finaly we can delete the object:\n",
        "del tilman"
      ],
      "execution_count": null,
      "outputs": []
    }
  ]
}